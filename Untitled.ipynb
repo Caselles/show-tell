{
 "cells": [
  {
   "cell_type": "code",
   "execution_count": 7,
   "metadata": {},
   "outputs": [],
   "source": [
    "import numpy as np\n",
    "\n",
    "mean = np.array([0.0, 0.0, 0.0, 0.0])\n",
    "cov = np.array([[1.0, 0.0, 0.0, 0.0],[0.0, 1.0, 0.0, 0.0], [0.0, 0.0, 1.0, 0.0], [0.0, 0.0, 0.0, 1.0]])"
   ]
  },
  {
   "cell_type": "code",
   "execution_count": 13,
   "metadata": {},
   "outputs": [
    {
     "name": "stdout",
     "output_type": "stream",
     "text": [
      "0.5\n"
     ]
    }
   ],
   "source": [
    "import openturns as ot\n",
    "multinormal = ot.Normal(mean, ot.CovarianceMatrix(cov))\n",
    "prob = multinormal.computeProbability(ot.Interval([-100000.,-1000000.,-100000.,0.], [1000000,100000,100000000,100000])) \n",
    "print(prob)"
   ]
  },
  {
   "cell_type": "code",
   "execution_count": 18,
   "metadata": {},
   "outputs": [],
   "source": [
    "y_t = [ 0.7136, -0.5982, -0.2636,  0.9235]"
   ]
  },
  {
   "cell_type": "code",
   "execution_count": 19,
   "metadata": {},
   "outputs": [],
   "source": [
    "x_t = np.arctanh([ 0.7136, -0.5982, -0.2636,  0.9235])"
   ]
  },
  {
   "cell_type": "code",
   "execution_count": 20,
   "metadata": {},
   "outputs": [],
   "source": [
    "mean = [-0.6773, -0.0059, -0.8351,  0.0465]\n",
    "std = [0.7791, 0.8808, 0.7865, 0.8682]"
   ]
  },
  {
   "cell_type": "code",
   "execution_count": 21,
   "metadata": {},
   "outputs": [
    {
     "name": "stdout",
     "output_type": "stream",
     "text": [
      "2.0174318217218548\n",
      "-0.7770656349679429\n",
      "0.7185336175657931\n",
      "1.8035078215617713\n"
     ]
    }
   ],
   "source": [
    "for i in range(len(mean)):\n",
    "    z = (x_t[i]-mean[i])/std[i]\n",
    "    print(z)"
   ]
  },
  {
   "cell_type": "code",
   "execution_count": 24,
   "metadata": {},
   "outputs": [],
   "source": [
    "import torch\n",
    "from torch.distributions import Normal\n",
    "mean = torch.tensor([-0.6773, -0.0059, -0.8351,  0.0465])\n",
    "std = torch.tensor([0.7791, 0.8808, 0.7865, 0.8682])\n",
    "normal = Normal(mean, std)"
   ]
  },
  {
   "cell_type": "code",
   "execution_count": 35,
   "metadata": {},
   "outputs": [
    {
     "data": {
      "text/plain": [
       "tensor([0.0254, 0.8786, 0.1858, 0.6176])"
      ]
     },
     "execution_count": 35,
     "metadata": {},
     "output_type": "execute_result"
    }
   ],
   "source": [
    "x = normal.rsample()\n",
    "normal.cdf(x)"
   ]
  },
  {
   "cell_type": "code",
   "execution_count": null,
   "metadata": {},
   "outputs": [],
   "source": []
  }
 ],
 "metadata": {
  "kernelspec": {
   "display_name": "Python_3_6_nigga",
   "language": "python",
   "name": "python_3_6_nigga"
  },
  "language_info": {
   "codemirror_mode": {
    "name": "ipython",
    "version": 3
   },
   "file_extension": ".py",
   "mimetype": "text/x-python",
   "name": "python",
   "nbconvert_exporter": "python",
   "pygments_lexer": "ipython3",
   "version": "3.6.3"
  }
 },
 "nbformat": 4,
 "nbformat_minor": 2
}
